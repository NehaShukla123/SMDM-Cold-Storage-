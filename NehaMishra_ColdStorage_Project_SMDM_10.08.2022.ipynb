{
 "cells": [
  {
   "cell_type": "code",
   "execution_count": 2,
   "id": "d29336a4",
   "metadata": {},
   "outputs": [],
   "source": [
    "import pandas as pd\n",
    "import numpy as np\n",
    "import seaborn as sns\n",
    "import math\n",
    "import pylab\n",
    "import scipy.stats as stats\n",
    "import matplotlib.pyplot as plt\n",
    "sns.set(color_codes=True)\n",
    "%matplotlib inline\n",
    "\n",
    "from scipy.stats import norm\n",
    "import statistics as stats2\n",
    "from statistics import stdev\n",
    "\n",
    "from scipy.stats import ttest_1samp,ttest_ind"
   ]
  },
  {
   "cell_type": "code",
   "execution_count": 4,
   "id": "0105b099",
   "metadata": {},
   "outputs": [],
   "source": [
    "import os\n",
    "os.getcwd()\n",
    "os.chdir('C:\\\\Users\\\\Neha Mishra\\\\Downloads')"
   ]
  },
  {
   "cell_type": "code",
   "execution_count": 5,
   "id": "75edeff5",
   "metadata": {},
   "outputs": [],
   "source": [
    "df1 = pd.read_csv('Cold_Storage_Temp_Data_-1.csv')"
   ]
  },
  {
   "cell_type": "code",
   "execution_count": 6,
   "id": "8e6f064e",
   "metadata": {},
   "outputs": [
    {
     "data": {
      "text/html": [
       "<div>\n",
       "<style scoped>\n",
       "    .dataframe tbody tr th:only-of-type {\n",
       "        vertical-align: middle;\n",
       "    }\n",
       "\n",
       "    .dataframe tbody tr th {\n",
       "        vertical-align: top;\n",
       "    }\n",
       "\n",
       "    .dataframe thead th {\n",
       "        text-align: right;\n",
       "    }\n",
       "</style>\n",
       "<table border=\"1\" class=\"dataframe\">\n",
       "  <thead>\n",
       "    <tr style=\"text-align: right;\">\n",
       "      <th></th>\n",
       "      <th>Season</th>\n",
       "      <th>Month</th>\n",
       "      <th>Date</th>\n",
       "      <th>Temperature</th>\n",
       "    </tr>\n",
       "  </thead>\n",
       "  <tbody>\n",
       "    <tr>\n",
       "      <th>0</th>\n",
       "      <td>Winter</td>\n",
       "      <td>Jan</td>\n",
       "      <td>1</td>\n",
       "      <td>2.3</td>\n",
       "    </tr>\n",
       "    <tr>\n",
       "      <th>1</th>\n",
       "      <td>Winter</td>\n",
       "      <td>Jan</td>\n",
       "      <td>2</td>\n",
       "      <td>2.2</td>\n",
       "    </tr>\n",
       "    <tr>\n",
       "      <th>2</th>\n",
       "      <td>Winter</td>\n",
       "      <td>Jan</td>\n",
       "      <td>3</td>\n",
       "      <td>2.4</td>\n",
       "    </tr>\n",
       "    <tr>\n",
       "      <th>3</th>\n",
       "      <td>Winter</td>\n",
       "      <td>Jan</td>\n",
       "      <td>4</td>\n",
       "      <td>2.8</td>\n",
       "    </tr>\n",
       "    <tr>\n",
       "      <th>4</th>\n",
       "      <td>Winter</td>\n",
       "      <td>Jan</td>\n",
       "      <td>5</td>\n",
       "      <td>2.5</td>\n",
       "    </tr>\n",
       "  </tbody>\n",
       "</table>\n",
       "</div>"
      ],
      "text/plain": [
       "   Season Month  Date  Temperature\n",
       "0  Winter   Jan     1          2.3\n",
       "1  Winter   Jan     2          2.2\n",
       "2  Winter   Jan     3          2.4\n",
       "3  Winter   Jan     4          2.8\n",
       "4  Winter   Jan     5          2.5"
      ]
     },
     "execution_count": 6,
     "metadata": {},
     "output_type": "execute_result"
    }
   ],
   "source": [
    "df1.head()"
   ]
  },
  {
   "cell_type": "code",
   "execution_count": 7,
   "id": "4d827e95",
   "metadata": {},
   "outputs": [
    {
     "data": {
      "text/plain": [
       "Season         0\n",
       "Month          0\n",
       "Date           0\n",
       "Temperature    0\n",
       "dtype: int64"
      ]
     },
     "execution_count": 7,
     "metadata": {},
     "output_type": "execute_result"
    }
   ],
   "source": [
    "df1.isnull().sum()\n",
    "#print('Null values:\\n',df1.isnull().any())"
   ]
  },
  {
   "cell_type": "code",
   "execution_count": 8,
   "id": "705e642a",
   "metadata": {},
   "outputs": [
    {
     "data": {
      "text/html": [
       "<div>\n",
       "<style scoped>\n",
       "    .dataframe tbody tr th:only-of-type {\n",
       "        vertical-align: middle;\n",
       "    }\n",
       "\n",
       "    .dataframe tbody tr th {\n",
       "        vertical-align: top;\n",
       "    }\n",
       "\n",
       "    .dataframe thead th {\n",
       "        text-align: right;\n",
       "    }\n",
       "</style>\n",
       "<table border=\"1\" class=\"dataframe\">\n",
       "  <thead>\n",
       "    <tr style=\"text-align: right;\">\n",
       "      <th></th>\n",
       "      <th>count</th>\n",
       "      <th>mean</th>\n",
       "      <th>std</th>\n",
       "      <th>min</th>\n",
       "      <th>25%</th>\n",
       "      <th>50%</th>\n",
       "      <th>75%</th>\n",
       "      <th>max</th>\n",
       "    </tr>\n",
       "  </thead>\n",
       "  <tbody>\n",
       "    <tr>\n",
       "      <th>Date</th>\n",
       "      <td>365.0</td>\n",
       "      <td>15.720548</td>\n",
       "      <td>8.808321</td>\n",
       "      <td>1.0</td>\n",
       "      <td>8.0</td>\n",
       "      <td>16.0</td>\n",
       "      <td>23.0</td>\n",
       "      <td>31.0</td>\n",
       "    </tr>\n",
       "    <tr>\n",
       "      <th>Temperature</th>\n",
       "      <td>365.0</td>\n",
       "      <td>3.002466</td>\n",
       "      <td>0.465832</td>\n",
       "      <td>1.7</td>\n",
       "      <td>2.7</td>\n",
       "      <td>3.0</td>\n",
       "      <td>3.3</td>\n",
       "      <td>4.5</td>\n",
       "    </tr>\n",
       "  </tbody>\n",
       "</table>\n",
       "</div>"
      ],
      "text/plain": [
       "             count       mean       std  min  25%   50%   75%   max\n",
       "Date         365.0  15.720548  8.808321  1.0  8.0  16.0  23.0  31.0\n",
       "Temperature  365.0   3.002466  0.465832  1.7  2.7   3.0   3.3   4.5"
      ]
     },
     "execution_count": 8,
     "metadata": {},
     "output_type": "execute_result"
    }
   ],
   "source": [
    "df1.describe().T"
   ]
  },
  {
   "cell_type": "code",
   "execution_count": 9,
   "id": "3afd3d03",
   "metadata": {},
   "outputs": [
    {
     "name": "stdout",
     "output_type": "stream",
     "text": [
      "<class 'pandas.core.frame.DataFrame'>\n",
      "RangeIndex: 365 entries, 0 to 364\n",
      "Data columns (total 4 columns):\n",
      " #   Column       Non-Null Count  Dtype  \n",
      "---  ------       --------------  -----  \n",
      " 0   Season       365 non-null    object \n",
      " 1   Month        365 non-null    object \n",
      " 2   Date         365 non-null    int64  \n",
      " 3   Temperature  365 non-null    float64\n",
      "dtypes: float64(1), int64(1), object(2)\n",
      "memory usage: 11.5+ KB\n"
     ]
    }
   ],
   "source": [
    "df1.info()"
   ]
  },
  {
   "cell_type": "code",
   "execution_count": 10,
   "id": "5060aa83",
   "metadata": {},
   "outputs": [
    {
     "name": "stdout",
     "output_type": "stream",
     "text": [
      "Range of values Temperature:  2.8\n",
      "Minimum Temperature:  1.7\n",
      "Maximum Temperature:  4.5\n",
      "Mean value Temperature:  3.0024657534246546\n",
      "Median value Temperature:  3.0\n",
      "Mode value Temperature:  0    3.1\n",
      "dtype: float64\n",
      "Standard deviation Temperature:  0.4658319416510761\n"
     ]
    }
   ],
   "source": [
    "print('Range of values Temperature: ', df1['Temperature'].max()-df1['Temperature'].min()) # as outliers present, its not a suitable measure\n",
    "print('Minimum Temperature: ', df1['Temperature'].min())\n",
    "print('Maximum Temperature: ',df1['Temperature'].max())\n",
    "print('Mean value Temperature: ', df1['Temperature'].mean())\n",
    "print('Median value Temperature: ',df1['Temperature'].median())\n",
    "print('Mode value Temperature: ',df1['Temperature'].mode())\n",
    "print('Standard deviation Temperature: ', df1['Temperature'].std())"
   ]
  },
  {
   "cell_type": "code",
   "execution_count": 11,
   "id": "dca79821",
   "metadata": {},
   "outputs": [
    {
     "name": "stdout",
     "output_type": "stream",
     "text": [
      "Temperature - 1st Quartile (Q1) is:  2.7\n",
      "Temperature - 3st Quartile (Q3) is:  3.3\n",
      "Interquartile range (IQR) of Temperature is  0.5999999999999996\n"
     ]
    }
   ],
   "source": [
    "Q1=df1['Temperature'].quantile(q=0.25)\n",
    "Q3=df1['Temperature'].quantile(q=0.75)\n",
    "print('Temperature - 1st Quartile (Q1) is: ', Q1)\n",
    "print('Temperature - 3st Quartile (Q3) is: ', Q3)\n",
    "print('Interquartile range (IQR) of Temperature is ', stats.iqr(df1['Temperature']))"
   ]
  },
  {
   "cell_type": "code",
   "execution_count": 12,
   "id": "31253d75",
   "metadata": {},
   "outputs": [
    {
     "data": {
      "text/plain": [
       "<AxesSubplot:xlabel='Temperature', ylabel='Count'>"
      ]
     },
     "execution_count": 12,
     "metadata": {},
     "output_type": "execute_result"
    },
    {
     "data": {
      "image/png": "[encoded data removed]",
      "text/plain": [
       "<Figure size 720x360 with 1 Axes>"
      ]
     },
     "metadata": {
      "needs_background": "light"
     },
     "output_type": "display_data"
    }
   ],
   "source": [
    "fig= plt.subplots(figsize=(10,5))\n",
    "sns.histplot(df1['Temperature'], kde=True)"
   ]
  },
  {
   "cell_type": "code",
   "execution_count": 13,
   "id": "ce86471a",
   "metadata": {},
   "outputs": [
    {
     "name": "stderr",
     "output_type": "stream",
     "text": [
      "C:\\Users\\Neha Mishra\\anaconda3\\lib\\site-packages\\seaborn\\_decorators.py:36: FutureWarning: Pass the following variable as a keyword arg: x. From version 0.12, the only valid positional argument will be `data`, and passing other arguments without an explicit keyword will result in an error or misinterpretation.\n",
      "  warnings.warn(\n"
     ]
    },
    {
     "data": {
      "text/plain": [
       "<AxesSubplot:xlabel='Temperature'>"
      ]
     },
     "execution_count": 13,
     "metadata": {},
     "output_type": "execute_result"
    },
    {
     "data": {
      "image/png": "[encoded data removed]",
      "text/plain": [
       "<Figure size 432x288 with 1 Axes>"
      ]
     },
     "metadata": {
      "needs_background": "light"
     },
     "output_type": "display_data"
    }
   ],
   "source": [
    "sns.boxplot(df1['Temperature'])"
   ]
  },
  {
   "cell_type": "code",
   "execution_count": 14,
   "id": "9bf54854",
   "metadata": {},
   "outputs": [
    {
     "data": {
      "image/png": "[encoded data removed]",
      "text/plain": [
       "<Figure size 720x432 with 1 Axes>"
      ]
     },
     "metadata": {},
     "output_type": "display_data"
    }
   ],
   "source": [
    "def pdf(x):\n",
    "    mean = df1['Temperature'].mean()\n",
    "    std = stdev(df1['Temperature'])\n",
    "    y_out = 1/(std * np.sqrt(2 * np.pi)) * np.exp( - (x - mean)**2 / (2 * std**2))\n",
    "    return y_out\n",
    "  \n",
    "# To generate an array of x-values\n",
    "x = np.arange(1.7, 4.5, 0.1)\n",
    "  \n",
    "# To generate an array of \n",
    "# y-values using corresponding x-values\n",
    "y = pdf(x)\n",
    "  \n",
    "# To fill in values under the bell-curve\n",
    "x_fill = np.arange(1.7, 4.5, 0.1)\n",
    "y_fill = pdf(x_fill)\n",
    "  \n",
    "# Plotting the bell-shaped curve\n",
    "plt.style.use('seaborn')\n",
    "plt.figure(figsize = (10, 6))\n",
    "plt.plot(x,y, color = 'blue',linestyle = 'dashed')\n",
    "  \n",
    "plt.scatter(x, y, marker = 'o',s = 25, color = 'red')\n",
    "  \n",
    "plt.fill_between(x_fill, y_fill, 0,alpha = 0.1, color = 'blue')\n",
    "plt.show()"
   ]
  },
  {
   "cell_type": "code",
   "execution_count": 15,
   "id": "78015bb7",
   "metadata": {},
   "outputs": [
    {
     "data": {
      "image/png": "[encoded data removed]",
      "text/plain": [
       "<Figure size 720x432 with 1 Axes>"
      ]
     },
     "metadata": {},
     "output_type": "display_data"
    }
   ],
   "source": [
    "# Plot between min(Temp) and max(Temp) with 0.1 steps.\n",
    "x_axis = np.arange(1.7, 4.5, 0.1)\n",
    "  \n",
    "# Calculating mean and standard deviation\n",
    "mean = df1['Temperature'].mean()\n",
    "sd = stdev(df1['Temperature'])\n",
    "\n",
    "plt.figure(figsize=(10,6))\n",
    "plt.plot(x_axis, norm.pdf(x_axis, mean, sd))\n",
    "plt.show()"
   ]
  },
  {
   "cell_type": "code",
   "execution_count": 16,
   "id": "7513ca1b",
   "metadata": {},
   "outputs": [
    {
     "data": {
      "text/plain": [
       "<AxesSubplot:xlabel='Month', ylabel='Temperature'>"
      ]
     },
     "execution_count": 16,
     "metadata": {},
     "output_type": "execute_result"
    },
    {
     "data": {
      "image/png": "[encoded data removed]",
      "text/plain": [
       "<Figure size 720x360 with 1 Axes>"
      ]
     },
     "metadata": {},
     "output_type": "display_data"
    }
   ],
   "source": [
    "fig= plt.subplots(figsize=(10,5))\n",
    "sns.boxplot(x='Month', y = 'Temperature', data=df1)"
   ]
  },
  {
   "cell_type": "code",
   "execution_count": 17,
   "id": "5d79dc84",
   "metadata": {},
   "outputs": [
    {
     "data": {
      "text/plain": [
       "<AxesSubplot:xlabel='Season', ylabel='Temperature'>"
      ]
     },
     "execution_count": 17,
     "metadata": {},
     "output_type": "execute_result"
    },
    {
     "data": {
      "image/png": "[encoded data removed]",
      "text/plain": [
       "<Figure size 720x360 with 1 Axes>"
      ]
     },
     "metadata": {},
     "output_type": "display_data"
    }
   ],
   "source": [
    "fig= plt.subplots(figsize=(10,5))\n",
    "sns.boxplot(x='Season', y = 'Temperature', data=df1)"
   ]
  },
  {
   "cell_type": "code",
   "execution_count": 18,
   "id": "dcbaeaeb",
   "metadata": {},
   "outputs": [
    {
     "data": {
      "text/plain": [
       "<AxesSubplot:xlabel='Month', ylabel='Temperature'>"
      ]
     },
     "execution_count": 18,
     "metadata": {},
     "output_type": "execute_result"
    },
    {
     "data": {
      "image/png": "[encoded data removed]",
      "text/plain": [
       "<Figure size 720x432 with 1 Axes>"
      ]
     },
     "metadata": {},
     "output_type": "display_data"
    }
   ],
   "source": [
    "fig= plt.subplots(figsize=(10,6))\n",
    "sns.pointplot(x='Month', y='Temperature', data=df1, ci=None)"
   ]
  },
  {
   "cell_type": "code",
   "execution_count": 19,
   "id": "39de6702",
   "metadata": {},
   "outputs": [
    {
     "data": {
      "text/plain": [
       "<AxesSubplot:xlabel='Season', ylabel='count'>"
      ]
     },
     "execution_count": 19,
     "metadata": {},
     "output_type": "execute_result"
    },
    {
     "data": {
      "image/png": "[encoded data removed]",
      "text/plain": [
       "<Figure size 1800x720 with 1 Axes>"
      ]
     },
     "metadata": {},
     "output_type": "display_data"
    }
   ],
   "source": [
    "plt.figure(figsize=(25,10))\n",
    "sns.countplot(x='Season', hue='Temperature', data=df1)"
   ]
  },
  {
   "cell_type": "code",
   "execution_count": 20,
   "id": "aa2312c4",
   "metadata": {},
   "outputs": [
    {
     "data": {
      "text/plain": [
       "Text(0.5, 1.0, 'Temperature')"
      ]
     },
     "execution_count": 20,
     "metadata": {},
     "output_type": "execute_result"
    },
    {
     "data": {
      "image/png": "[encoded data removed]",
      "text/plain": [
       "<Figure size 441.475x360 with 1 Axes>"
      ]
     },
     "metadata": {},
     "output_type": "display_data"
    }
   ],
   "source": [
    "sns.set(style='ticks', color_codes=True)\n",
    "sns.catplot(x='Month', y='Temperature', hue ='Season', kind='bar', ci=None, data=df1)\n",
    "plt.title('Temperature')"
   ]
  },
  {
   "cell_type": "code",
   "execution_count": 21,
   "id": "f21f1fb7",
   "metadata": {},
   "outputs": [
    {
     "data": {
      "text/plain": [
       "<seaborn.axisgrid.PairGrid at 0x1e5351e8f40>"
      ]
     },
     "execution_count": 21,
     "metadata": {},
     "output_type": "execute_result"
    },
    {
     "data": {
      "image/png": "[encoded data removed]",
      "text/plain": [
       "<Figure size 360x360 with 6 Axes>"
      ]
     },
     "metadata": {},
     "output_type": "display_data"
    }
   ],
   "source": [
    "sns.pairplot(df1)"
   ]
  },
  {
   "cell_type": "code",
   "execution_count": 22,
   "id": "c963bc58",
   "metadata": {},
   "outputs": [
    {
     "data": {
      "text/html": [
       "<div>\n",
       "<style scoped>\n",
       "    .dataframe tbody tr th:only-of-type {\n",
       "        vertical-align: middle;\n",
       "    }\n",
       "\n",
       "    .dataframe tbody tr th {\n",
       "        vertical-align: top;\n",
       "    }\n",
       "\n",
       "    .dataframe thead th {\n",
       "        text-align: right;\n",
       "    }\n",
       "</style>\n",
       "<table border=\"1\" class=\"dataframe\">\n",
       "  <thead>\n",
       "    <tr style=\"text-align: right;\">\n",
       "      <th>Season</th>\n",
       "      <th>Rainy</th>\n",
       "      <th>Summer</th>\n",
       "      <th>Winter</th>\n",
       "    </tr>\n",
       "    <tr>\n",
       "      <th>Temperature</th>\n",
       "      <th></th>\n",
       "      <th></th>\n",
       "      <th></th>\n",
       "    </tr>\n",
       "  </thead>\n",
       "  <tbody>\n",
       "    <tr>\n",
       "      <th>1.7</th>\n",
       "      <td>1</td>\n",
       "      <td>0</td>\n",
       "      <td>0</td>\n",
       "    </tr>\n",
       "    <tr>\n",
       "      <th>1.8</th>\n",
       "      <td>0</td>\n",
       "      <td>0</td>\n",
       "      <td>1</td>\n",
       "    </tr>\n",
       "    <tr>\n",
       "      <th>1.9</th>\n",
       "      <td>1</td>\n",
       "      <td>0</td>\n",
       "      <td>0</td>\n",
       "    </tr>\n",
       "    <tr>\n",
       "      <th>2.0</th>\n",
       "      <td>0</td>\n",
       "      <td>0</td>\n",
       "      <td>2</td>\n",
       "    </tr>\n",
       "    <tr>\n",
       "      <th>2.1</th>\n",
       "      <td>1</td>\n",
       "      <td>0</td>\n",
       "      <td>3</td>\n",
       "    </tr>\n",
       "    <tr>\n",
       "      <th>2.2</th>\n",
       "      <td>1</td>\n",
       "      <td>0</td>\n",
       "      <td>5</td>\n",
       "    </tr>\n",
       "    <tr>\n",
       "      <th>2.3</th>\n",
       "      <td>4</td>\n",
       "      <td>0</td>\n",
       "      <td>8</td>\n",
       "    </tr>\n",
       "    <tr>\n",
       "      <th>2.4</th>\n",
       "      <td>3</td>\n",
       "      <td>0</td>\n",
       "      <td>12</td>\n",
       "    </tr>\n",
       "    <tr>\n",
       "      <th>2.5</th>\n",
       "      <td>8</td>\n",
       "      <td>2</td>\n",
       "      <td>9</td>\n",
       "    </tr>\n",
       "    <tr>\n",
       "      <th>2.6</th>\n",
       "      <td>2</td>\n",
       "      <td>11</td>\n",
       "      <td>9</td>\n",
       "    </tr>\n",
       "    <tr>\n",
       "      <th>2.7</th>\n",
       "      <td>11</td>\n",
       "      <td>7</td>\n",
       "      <td>8</td>\n",
       "    </tr>\n",
       "    <tr>\n",
       "      <th>2.8</th>\n",
       "      <td>10</td>\n",
       "      <td>4</td>\n",
       "      <td>14</td>\n",
       "    </tr>\n",
       "    <tr>\n",
       "      <th>2.9</th>\n",
       "      <td>12</td>\n",
       "      <td>12</td>\n",
       "      <td>7</td>\n",
       "    </tr>\n",
       "    <tr>\n",
       "      <th>3.0</th>\n",
       "      <td>7</td>\n",
       "      <td>10</td>\n",
       "      <td>16</td>\n",
       "    </tr>\n",
       "    <tr>\n",
       "      <th>3.1</th>\n",
       "      <td>9</td>\n",
       "      <td>12</td>\n",
       "      <td>13</td>\n",
       "    </tr>\n",
       "    <tr>\n",
       "      <th>3.2</th>\n",
       "      <td>9</td>\n",
       "      <td>19</td>\n",
       "      <td>1</td>\n",
       "    </tr>\n",
       "    <tr>\n",
       "      <th>3.3</th>\n",
       "      <td>9</td>\n",
       "      <td>11</td>\n",
       "      <td>5</td>\n",
       "    </tr>\n",
       "    <tr>\n",
       "      <th>3.4</th>\n",
       "      <td>7</td>\n",
       "      <td>10</td>\n",
       "      <td>2</td>\n",
       "    </tr>\n",
       "    <tr>\n",
       "      <th>3.5</th>\n",
       "      <td>6</td>\n",
       "      <td>6</td>\n",
       "      <td>2</td>\n",
       "    </tr>\n",
       "    <tr>\n",
       "      <th>3.6</th>\n",
       "      <td>3</td>\n",
       "      <td>5</td>\n",
       "      <td>2</td>\n",
       "    </tr>\n",
       "    <tr>\n",
       "      <th>3.7</th>\n",
       "      <td>2</td>\n",
       "      <td>6</td>\n",
       "      <td>1</td>\n",
       "    </tr>\n",
       "    <tr>\n",
       "      <th>3.8</th>\n",
       "      <td>5</td>\n",
       "      <td>1</td>\n",
       "      <td>2</td>\n",
       "    </tr>\n",
       "    <tr>\n",
       "      <th>3.9</th>\n",
       "      <td>4</td>\n",
       "      <td>1</td>\n",
       "      <td>1</td>\n",
       "    </tr>\n",
       "    <tr>\n",
       "      <th>4.0</th>\n",
       "      <td>0</td>\n",
       "      <td>3</td>\n",
       "      <td>0</td>\n",
       "    </tr>\n",
       "    <tr>\n",
       "      <th>4.1</th>\n",
       "      <td>3</td>\n",
       "      <td>0</td>\n",
       "      <td>0</td>\n",
       "    </tr>\n",
       "    <tr>\n",
       "      <th>4.2</th>\n",
       "      <td>1</td>\n",
       "      <td>0</td>\n",
       "      <td>0</td>\n",
       "    </tr>\n",
       "    <tr>\n",
       "      <th>4.3</th>\n",
       "      <td>1</td>\n",
       "      <td>0</td>\n",
       "      <td>0</td>\n",
       "    </tr>\n",
       "    <tr>\n",
       "      <th>4.4</th>\n",
       "      <td>1</td>\n",
       "      <td>0</td>\n",
       "      <td>0</td>\n",
       "    </tr>\n",
       "    <tr>\n",
       "      <th>4.5</th>\n",
       "      <td>1</td>\n",
       "      <td>0</td>\n",
       "      <td>0</td>\n",
       "    </tr>\n",
       "  </tbody>\n",
       "</table>\n",
       "</div>"
      ],
      "text/plain": [
       "Season       Rainy  Summer  Winter\n",
       "Temperature                       \n",
       "1.7              1       0       0\n",
       "1.8              0       0       1\n",
       "1.9              1       0       0\n",
       "2.0              0       0       2\n",
       "2.1              1       0       3\n",
       "2.2              1       0       5\n",
       "2.3              4       0       8\n",
       "2.4              3       0      12\n",
       "2.5              8       2       9\n",
       "2.6              2      11       9\n",
       "2.7             11       7       8\n",
       "2.8             10       4      14\n",
       "2.9             12      12       7\n",
       "3.0              7      10      16\n",
       "3.1              9      12      13\n",
       "3.2              9      19       1\n",
       "3.3              9      11       5\n",
       "3.4              7      10       2\n",
       "3.5              6       6       2\n",
       "3.6              3       5       2\n",
       "3.7              2       6       1\n",
       "3.8              5       1       2\n",
       "3.9              4       1       1\n",
       "4.0              0       3       0\n",
       "4.1              3       0       0\n",
       "4.2              1       0       0\n",
       "4.3              1       0       0\n",
       "4.4              1       0       0\n",
       "4.5              1       0       0"
      ]
     },
     "execution_count": 22,
     "metadata": {},
     "output_type": "execute_result"
    }
   ],
   "source": [
    "pd.crosstab(df1['Temperature'],df1['Season'])"
   ]
  },
  {
   "cell_type": "code",
   "execution_count": 23,
   "id": "22fccca1",
   "metadata": {},
   "outputs": [
    {
     "data": {
      "text/html": [
       "<div>\n",
       "<style scoped>\n",
       "    .dataframe tbody tr th:only-of-type {\n",
       "        vertical-align: middle;\n",
       "    }\n",
       "\n",
       "    .dataframe tbody tr th {\n",
       "        vertical-align: top;\n",
       "    }\n",
       "\n",
       "    .dataframe thead tr th {\n",
       "        text-align: left;\n",
       "    }\n",
       "\n",
       "    .dataframe thead tr:last-of-type th {\n",
       "        text-align: right;\n",
       "    }\n",
       "</style>\n",
       "<table border=\"1\" class=\"dataframe\">\n",
       "  <thead>\n",
       "    <tr>\n",
       "      <th></th>\n",
       "      <th></th>\n",
       "      <th colspan=\"21\" halign=\"left\">Date</th>\n",
       "    </tr>\n",
       "    <tr>\n",
       "      <th></th>\n",
       "      <th>Temperature</th>\n",
       "      <th>1.7</th>\n",
       "      <th>1.8</th>\n",
       "      <th>1.9</th>\n",
       "      <th>2.0</th>\n",
       "      <th>2.1</th>\n",
       "      <th>2.2</th>\n",
       "      <th>2.3</th>\n",
       "      <th>2.4</th>\n",
       "      <th>2.5</th>\n",
       "      <th>2.6</th>\n",
       "      <th>...</th>\n",
       "      <th>3.6</th>\n",
       "      <th>3.7</th>\n",
       "      <th>3.8</th>\n",
       "      <th>3.9</th>\n",
       "      <th>4.0</th>\n",
       "      <th>4.1</th>\n",
       "      <th>4.2</th>\n",
       "      <th>4.3</th>\n",
       "      <th>4.4</th>\n",
       "      <th>4.5</th>\n",
       "    </tr>\n",
       "    <tr>\n",
       "      <th>Season</th>\n",
       "      <th>Month</th>\n",
       "      <th></th>\n",
       "      <th></th>\n",
       "      <th></th>\n",
       "      <th></th>\n",
       "      <th></th>\n",
       "      <th></th>\n",
       "      <th></th>\n",
       "      <th></th>\n",
       "      <th></th>\n",
       "      <th></th>\n",
       "      <th></th>\n",
       "      <th></th>\n",
       "      <th></th>\n",
       "      <th></th>\n",
       "      <th></th>\n",
       "      <th></th>\n",
       "      <th></th>\n",
       "      <th></th>\n",
       "      <th></th>\n",
       "      <th></th>\n",
       "      <th></th>\n",
       "    </tr>\n",
       "  </thead>\n",
       "  <tbody>\n",
       "    <tr>\n",
       "      <th rowspan=\"4\" valign=\"top\">Rainy</th>\n",
       "      <th>Aug</th>\n",
       "      <td>NaN</td>\n",
       "      <td>NaN</td>\n",
       "      <td>NaN</td>\n",
       "      <td>NaN</td>\n",
       "      <td>NaN</td>\n",
       "      <td>NaN</td>\n",
       "      <td>19.000000</td>\n",
       "      <td>12.000000</td>\n",
       "      <td>26.000000</td>\n",
       "      <td>NaN</td>\n",
       "      <td>...</td>\n",
       "      <td>4.0</td>\n",
       "      <td>13.000000</td>\n",
       "      <td>15.0</td>\n",
       "      <td>31.0</td>\n",
       "      <td>NaN</td>\n",
       "      <td>NaN</td>\n",
       "      <td>NaN</td>\n",
       "      <td>22.0</td>\n",
       "      <td>NaN</td>\n",
       "      <td>NaN</td>\n",
       "    </tr>\n",
       "    <tr>\n",
       "      <th>Jul</th>\n",
       "      <td>NaN</td>\n",
       "      <td>NaN</td>\n",
       "      <td>23.0</td>\n",
       "      <td>NaN</td>\n",
       "      <td>NaN</td>\n",
       "      <td>NaN</td>\n",
       "      <td>26.000000</td>\n",
       "      <td>NaN</td>\n",
       "      <td>14.500000</td>\n",
       "      <td>NaN</td>\n",
       "      <td>...</td>\n",
       "      <td>NaN</td>\n",
       "      <td>9.000000</td>\n",
       "      <td>28.0</td>\n",
       "      <td>13.0</td>\n",
       "      <td>NaN</td>\n",
       "      <td>NaN</td>\n",
       "      <td>10.0</td>\n",
       "      <td>NaN</td>\n",
       "      <td>NaN</td>\n",
       "      <td>NaN</td>\n",
       "    </tr>\n",
       "    <tr>\n",
       "      <th>Jun</th>\n",
       "      <td>NaN</td>\n",
       "      <td>NaN</td>\n",
       "      <td>NaN</td>\n",
       "      <td>NaN</td>\n",
       "      <td>23.0</td>\n",
       "      <td>NaN</td>\n",
       "      <td>17.000000</td>\n",
       "      <td>NaN</td>\n",
       "      <td>16.000000</td>\n",
       "      <td>15.000000</td>\n",
       "      <td>...</td>\n",
       "      <td>25.0</td>\n",
       "      <td>NaN</td>\n",
       "      <td>17.5</td>\n",
       "      <td>19.0</td>\n",
       "      <td>NaN</td>\n",
       "      <td>NaN</td>\n",
       "      <td>NaN</td>\n",
       "      <td>NaN</td>\n",
       "      <td>NaN</td>\n",
       "      <td>NaN</td>\n",
       "    </tr>\n",
       "    <tr>\n",
       "      <th>Sep</th>\n",
       "      <td>29.0</td>\n",
       "      <td>NaN</td>\n",
       "      <td>NaN</td>\n",
       "      <td>NaN</td>\n",
       "      <td>NaN</td>\n",
       "      <td>15.0</td>\n",
       "      <td>NaN</td>\n",
       "      <td>11.000000</td>\n",
       "      <td>NaN</td>\n",
       "      <td>30.000000</td>\n",
       "      <td>...</td>\n",
       "      <td>23.0</td>\n",
       "      <td>NaN</td>\n",
       "      <td>25.0</td>\n",
       "      <td>26.0</td>\n",
       "      <td>NaN</td>\n",
       "      <td>5.333333</td>\n",
       "      <td>NaN</td>\n",
       "      <td>NaN</td>\n",
       "      <td>20.0</td>\n",
       "      <td>9.0</td>\n",
       "    </tr>\n",
       "    <tr>\n",
       "      <th rowspan=\"4\" valign=\"top\">Summer</th>\n",
       "      <th>Apr</th>\n",
       "      <td>NaN</td>\n",
       "      <td>NaN</td>\n",
       "      <td>NaN</td>\n",
       "      <td>NaN</td>\n",
       "      <td>NaN</td>\n",
       "      <td>NaN</td>\n",
       "      <td>NaN</td>\n",
       "      <td>NaN</td>\n",
       "      <td>30.000000</td>\n",
       "      <td>17.000000</td>\n",
       "      <td>...</td>\n",
       "      <td>17.0</td>\n",
       "      <td>13.000000</td>\n",
       "      <td>NaN</td>\n",
       "      <td>NaN</td>\n",
       "      <td>10.5</td>\n",
       "      <td>NaN</td>\n",
       "      <td>NaN</td>\n",
       "      <td>NaN</td>\n",
       "      <td>NaN</td>\n",
       "      <td>NaN</td>\n",
       "    </tr>\n",
       "    <tr>\n",
       "      <th>Feb</th>\n",
       "      <td>NaN</td>\n",
       "      <td>NaN</td>\n",
       "      <td>NaN</td>\n",
       "      <td>NaN</td>\n",
       "      <td>NaN</td>\n",
       "      <td>NaN</td>\n",
       "      <td>NaN</td>\n",
       "      <td>NaN</td>\n",
       "      <td>NaN</td>\n",
       "      <td>18.000000</td>\n",
       "      <td>...</td>\n",
       "      <td>NaN</td>\n",
       "      <td>16.666667</td>\n",
       "      <td>NaN</td>\n",
       "      <td>4.0</td>\n",
       "      <td>NaN</td>\n",
       "      <td>NaN</td>\n",
       "      <td>NaN</td>\n",
       "      <td>NaN</td>\n",
       "      <td>NaN</td>\n",
       "      <td>NaN</td>\n",
       "    </tr>\n",
       "    <tr>\n",
       "      <th>Mar</th>\n",
       "      <td>NaN</td>\n",
       "      <td>NaN</td>\n",
       "      <td>NaN</td>\n",
       "      <td>NaN</td>\n",
       "      <td>NaN</td>\n",
       "      <td>NaN</td>\n",
       "      <td>NaN</td>\n",
       "      <td>NaN</td>\n",
       "      <td>22.000000</td>\n",
       "      <td>20.000000</td>\n",
       "      <td>...</td>\n",
       "      <td>4.0</td>\n",
       "      <td>11.000000</td>\n",
       "      <td>29.0</td>\n",
       "      <td>NaN</td>\n",
       "      <td>NaN</td>\n",
       "      <td>NaN</td>\n",
       "      <td>NaN</td>\n",
       "      <td>NaN</td>\n",
       "      <td>NaN</td>\n",
       "      <td>NaN</td>\n",
       "    </tr>\n",
       "    <tr>\n",
       "      <th>May</th>\n",
       "      <td>NaN</td>\n",
       "      <td>NaN</td>\n",
       "      <td>NaN</td>\n",
       "      <td>NaN</td>\n",
       "      <td>NaN</td>\n",
       "      <td>NaN</td>\n",
       "      <td>NaN</td>\n",
       "      <td>NaN</td>\n",
       "      <td>NaN</td>\n",
       "      <td>11.666667</td>\n",
       "      <td>...</td>\n",
       "      <td>14.0</td>\n",
       "      <td>28.000000</td>\n",
       "      <td>NaN</td>\n",
       "      <td>NaN</td>\n",
       "      <td>20.0</td>\n",
       "      <td>NaN</td>\n",
       "      <td>NaN</td>\n",
       "      <td>NaN</td>\n",
       "      <td>NaN</td>\n",
       "      <td>NaN</td>\n",
       "    </tr>\n",
       "    <tr>\n",
       "      <th rowspan=\"4\" valign=\"top\">Winter</th>\n",
       "      <th>Dec</th>\n",
       "      <td>NaN</td>\n",
       "      <td>NaN</td>\n",
       "      <td>NaN</td>\n",
       "      <td>13.5</td>\n",
       "      <td>5.0</td>\n",
       "      <td>9.5</td>\n",
       "      <td>23.333333</td>\n",
       "      <td>11.000000</td>\n",
       "      <td>18.000000</td>\n",
       "      <td>25.000000</td>\n",
       "      <td>...</td>\n",
       "      <td>2.0</td>\n",
       "      <td>24.000000</td>\n",
       "      <td>NaN</td>\n",
       "      <td>NaN</td>\n",
       "      <td>NaN</td>\n",
       "      <td>NaN</td>\n",
       "      <td>NaN</td>\n",
       "      <td>NaN</td>\n",
       "      <td>NaN</td>\n",
       "      <td>NaN</td>\n",
       "    </tr>\n",
       "    <tr>\n",
       "      <th>Jan</th>\n",
       "      <td>NaN</td>\n",
       "      <td>NaN</td>\n",
       "      <td>NaN</td>\n",
       "      <td>NaN</td>\n",
       "      <td>NaN</td>\n",
       "      <td>2.0</td>\n",
       "      <td>1.000000</td>\n",
       "      <td>14.857143</td>\n",
       "      <td>15.666667</td>\n",
       "      <td>20.000000</td>\n",
       "      <td>...</td>\n",
       "      <td>NaN</td>\n",
       "      <td>NaN</td>\n",
       "      <td>26.0</td>\n",
       "      <td>16.0</td>\n",
       "      <td>NaN</td>\n",
       "      <td>NaN</td>\n",
       "      <td>NaN</td>\n",
       "      <td>NaN</td>\n",
       "      <td>NaN</td>\n",
       "      <td>NaN</td>\n",
       "    </tr>\n",
       "    <tr>\n",
       "      <th>Nov</th>\n",
       "      <td>NaN</td>\n",
       "      <td>3.0</td>\n",
       "      <td>NaN</td>\n",
       "      <td>NaN</td>\n",
       "      <td>13.0</td>\n",
       "      <td>14.5</td>\n",
       "      <td>16.666667</td>\n",
       "      <td>18.500000</td>\n",
       "      <td>14.333333</td>\n",
       "      <td>22.000000</td>\n",
       "      <td>...</td>\n",
       "      <td>NaN</td>\n",
       "      <td>NaN</td>\n",
       "      <td>NaN</td>\n",
       "      <td>NaN</td>\n",
       "      <td>NaN</td>\n",
       "      <td>NaN</td>\n",
       "      <td>NaN</td>\n",
       "      <td>NaN</td>\n",
       "      <td>NaN</td>\n",
       "      <td>NaN</td>\n",
       "    </tr>\n",
       "    <tr>\n",
       "      <th>Oct</th>\n",
       "      <td>NaN</td>\n",
       "      <td>NaN</td>\n",
       "      <td>NaN</td>\n",
       "      <td>NaN</td>\n",
       "      <td>20.0</td>\n",
       "      <td>NaN</td>\n",
       "      <td>7.000000</td>\n",
       "      <td>10.000000</td>\n",
       "      <td>9.000000</td>\n",
       "      <td>16.666667</td>\n",
       "      <td>...</td>\n",
       "      <td>23.0</td>\n",
       "      <td>NaN</td>\n",
       "      <td>28.0</td>\n",
       "      <td>NaN</td>\n",
       "      <td>NaN</td>\n",
       "      <td>NaN</td>\n",
       "      <td>NaN</td>\n",
       "      <td>NaN</td>\n",
       "      <td>NaN</td>\n",
       "      <td>NaN</td>\n",
       "    </tr>\n",
       "  </tbody>\n",
       "</table>\n",
       "<p>12 rows × 29 columns</p>\n",
       "</div>"
      ],
      "text/plain": [
       "              Date                                                     \\\n",
       "Temperature    1.7  1.8   1.9   2.0   2.1   2.2        2.3        2.4   \n",
       "Season Month                                                            \n",
       "Rainy  Aug     NaN  NaN   NaN   NaN   NaN   NaN  19.000000  12.000000   \n",
       "       Jul     NaN  NaN  23.0   NaN   NaN   NaN  26.000000        NaN   \n",
       "       Jun     NaN  NaN   NaN   NaN  23.0   NaN  17.000000        NaN   \n",
       "       Sep    29.0  NaN   NaN   NaN   NaN  15.0        NaN  11.000000   \n",
       "Summer Apr     NaN  NaN   NaN   NaN   NaN   NaN        NaN        NaN   \n",
       "       Feb     NaN  NaN   NaN   NaN   NaN   NaN        NaN        NaN   \n",
       "       Mar     NaN  NaN   NaN   NaN   NaN   NaN        NaN        NaN   \n",
       "       May     NaN  NaN   NaN   NaN   NaN   NaN        NaN        NaN   \n",
       "Winter Dec     NaN  NaN   NaN  13.5   5.0   9.5  23.333333  11.000000   \n",
       "       Jan     NaN  NaN   NaN   NaN   NaN   2.0   1.000000  14.857143   \n",
       "       Nov     NaN  3.0   NaN   NaN  13.0  14.5  16.666667  18.500000   \n",
       "       Oct     NaN  NaN   NaN   NaN  20.0   NaN   7.000000  10.000000   \n",
       "\n",
       "                                    ...                                     \\\n",
       "Temperature         2.5        2.6  ...   3.6        3.7   3.8   3.9   4.0   \n",
       "Season Month                        ...                                      \n",
       "Rainy  Aug    26.000000        NaN  ...   4.0  13.000000  15.0  31.0   NaN   \n",
       "       Jul    14.500000        NaN  ...   NaN   9.000000  28.0  13.0   NaN   \n",
       "       Jun    16.000000  15.000000  ...  25.0        NaN  17.5  19.0   NaN   \n",
       "       Sep          NaN  30.000000  ...  23.0        NaN  25.0  26.0   NaN   \n",
       "Summer Apr    30.000000  17.000000  ...  17.0  13.000000   NaN   NaN  10.5   \n",
       "       Feb          NaN  18.000000  ...   NaN  16.666667   NaN   4.0   NaN   \n",
       "       Mar    22.000000  20.000000  ...   4.0  11.000000  29.0   NaN   NaN   \n",
       "       May          NaN  11.666667  ...  14.0  28.000000   NaN   NaN  20.0   \n",
       "Winter Dec    18.000000  25.000000  ...   2.0  24.000000   NaN   NaN   NaN   \n",
       "       Jan    15.666667  20.000000  ...   NaN        NaN  26.0  16.0   NaN   \n",
       "       Nov    14.333333  22.000000  ...   NaN        NaN   NaN   NaN   NaN   \n",
       "       Oct     9.000000  16.666667  ...  23.0        NaN  28.0   NaN   NaN   \n",
       "\n",
       "                                               \n",
       "Temperature        4.1   4.2   4.3   4.4  4.5  \n",
       "Season Month                                   \n",
       "Rainy  Aug         NaN   NaN  22.0   NaN  NaN  \n",
       "       Jul         NaN  10.0   NaN   NaN  NaN  \n",
       "       Jun         NaN   NaN   NaN   NaN  NaN  \n",
       "       Sep    5.333333   NaN   NaN  20.0  9.0  \n",
       "Summer Apr         NaN   NaN   NaN   NaN  NaN  \n",
       "       Feb         NaN   NaN   NaN   NaN  NaN  \n",
       "       Mar         NaN   NaN   NaN   NaN  NaN  \n",
       "       May         NaN   NaN   NaN   NaN  NaN  \n",
       "Winter Dec         NaN   NaN   NaN   NaN  NaN  \n",
       "       Jan         NaN   NaN   NaN   NaN  NaN  \n",
       "       Nov         NaN   NaN   NaN   NaN  NaN  \n",
       "       Oct         NaN   NaN   NaN   NaN  NaN  \n",
       "\n",
       "[12 rows x 29 columns]"
      ]
     },
     "execution_count": 23,
     "metadata": {},
     "output_type": "execute_result"
    }
   ],
   "source": [
    "pd.pivot_table(df1, index=['Season', 'Month'], columns=['Temperature'])"
   ]
  },
  {
   "cell_type": "code",
   "execution_count": 24,
   "id": "20d9a91a",
   "metadata": {},
   "outputs": [
    {
     "data": {
      "text/plain": [
       "array([[<AxesSubplot:title={'center':'Rainy'}>,\n",
       "        <AxesSubplot:title={'center':'Summer'}>],\n",
       "       [<AxesSubplot:title={'center':'Winter'}>, <AxesSubplot:>]],\n",
       "      dtype=object)"
      ]
     },
     "execution_count": 24,
     "metadata": {},
     "output_type": "execute_result"
    },
    {
     "data": {
      "image/png": "[encoded data removed]",
      "text/plain": [
       "<Figure size 1080x432 with 4 Axes>"
      ]
     },
     "metadata": {},
     "output_type": "display_data"
    }
   ],
   "source": [
    "df1.hist(by='Season',column = 'Temperature',figsize=(15,6))"
   ]
  },
  {
   "cell_type": "code",
   "execution_count": 25,
   "id": "a083d953",
   "metadata": {},
   "outputs": [
    {
     "data": {
      "text/plain": [
       "array([[<AxesSubplot:title={'center':'Apr'}>,\n",
       "        <AxesSubplot:title={'center':'Aug'}>,\n",
       "        <AxesSubplot:title={'center':'Dec'}>],\n",
       "       [<AxesSubplot:title={'center':'Feb'}>,\n",
       "        <AxesSubplot:title={'center':'Jan'}>,\n",
       "        <AxesSubplot:title={'center':'Jul'}>],\n",
       "       [<AxesSubplot:title={'center':'Jun'}>,\n",
       "        <AxesSubplot:title={'center':'Mar'}>,\n",
       "        <AxesSubplot:title={'center':'May'}>],\n",
       "       [<AxesSubplot:title={'center':'Nov'}>,\n",
       "        <AxesSubplot:title={'center':'Oct'}>,\n",
       "        <AxesSubplot:title={'center':'Sep'}>]], dtype=object)"
      ]
     },
     "execution_count": 25,
     "metadata": {},
     "output_type": "execute_result"
    },
    {
     "data": {
      "image/png": "[encoded data removed]",
      "text/plain": [
       "<Figure size 1440x720 with 12 Axes>"
      ]
     },
     "metadata": {},
     "output_type": "display_data"
    }
   ],
   "source": [
    "df1.hist(by='Month',column = 'Temperature',figsize=(20,10))"
   ]
  },
  {
   "cell_type": "code",
   "execution_count": 26,
   "id": "4bc33287",
   "metadata": {},
   "outputs": [
    {
     "name": "stderr",
     "output_type": "stream",
     "text": [
      "C:\\Users\\Neha Mishra\\anaconda3\\lib\\site-packages\\seaborn\\_decorators.py:36: FutureWarning: Pass the following variables as keyword args: x, y. From version 0.12, the only valid positional argument will be `data`, and passing other arguments without an explicit keyword will result in an error or misinterpretation.\n",
      "  warnings.warn(\n"
     ]
    },
    {
     "data": {
      "image/png": "[encoded data removed]",
      "text/plain": [
       "<Figure size 576x432 with 1 Axes>"
      ]
     },
     "metadata": {},
     "output_type": "display_data"
    }
   ],
   "source": [
    "plt.figure(figsize=(8,6))\n",
    "sns.scatterplot(df1.Month, df1.Temperature ,hue=df1.Season,palette= ['red','green','blue'])\n",
    "plt.show()"
   ]
  },
  {
   "cell_type": "markdown",
   "id": "7917c5ee",
   "metadata": {},
   "source": [
    "# 1.1 Find mean cold storage temperature for Summer, Winter, and Rainy Season. (7 marks)"
   ]
  },
  {
   "cell_type": "code",
   "execution_count": 27,
   "id": "0b7d216b",
   "metadata": {},
   "outputs": [
    {
     "name": "stdout",
     "output_type": "stream",
     "text": [
      "Season\n",
      "Rainy     3.087705\n",
      "Summer    3.147500\n",
      "Winter    2.776423\n",
      "Name: Temperature, dtype: float64 \n",
      "\n"
     ]
    }
   ],
   "source": [
    "region_df = df1.groupby('Season')['Temperature'].mean()\n",
    "print(region_df,'\\n')"
   ]
  },
  {
   "cell_type": "markdown",
   "id": "d356eecc",
   "metadata": {},
   "source": [
    "# 1.2 Find the overall mean for the full year."
   ]
  },
  {
   "cell_type": "code",
   "execution_count": 28,
   "id": "bd4c8196",
   "metadata": {},
   "outputs": [
    {
     "name": "stdout",
     "output_type": "stream",
     "text": [
      "Overall mean for full year: 3.0024657534246546\n"
     ]
    }
   ],
   "source": [
    "print(f\"Overall mean for full year: {df1['Temperature'].mean()}\")"
   ]
  },
  {
   "cell_type": "code",
   "execution_count": 29,
   "id": "43e6078c",
   "metadata": {},
   "outputs": [
    {
     "data": {
      "text/plain": [
       "3.0024657534246577"
      ]
     },
     "execution_count": 29,
     "metadata": {},
     "output_type": "execute_result"
    }
   ],
   "source": [
    "df1['Temperature'].sum()/df1['Temperature'].count()"
   ]
  },
  {
   "cell_type": "code",
   "execution_count": 30,
   "id": "7df2c361",
   "metadata": {},
   "outputs": [
    {
     "name": "stdout",
     "output_type": "stream",
     "text": [
      "3.003876\n"
     ]
    }
   ],
   "source": [
    "print(((3.087705+3.147500+2.776423)/3))"
   ]
  },
  {
   "cell_type": "markdown",
   "id": "94972e05",
   "metadata": {},
   "source": [
    "# 1.3 Find Standard Deviation for the full year."
   ]
  },
  {
   "cell_type": "code",
   "execution_count": 31,
   "id": "11f43372",
   "metadata": {},
   "outputs": [
    {
     "name": "stdout",
     "output_type": "stream",
     "text": [
      "Standard Deviation for the full year: 0.4658319416510761\n"
     ]
    }
   ],
   "source": [
    "print(f\"Standard Deviation for the full year: {stdev(df1['Temperature'])}\")"
   ]
  },
  {
   "cell_type": "markdown",
   "id": "e58cc078",
   "metadata": {},
   "source": [
    "# 1.4 Assume Normal distribution, what is the probability of temperature having fallen below 2º C?"
   ]
  },
  {
   "cell_type": "markdown",
   "id": "e754d61a",
   "metadata": {},
   "source": [
    "z-score =(x-mean)/std dev"
   ]
  },
  {
   "cell_type": "code",
   "execution_count": 32,
   "id": "1639de37",
   "metadata": {},
   "outputs": [
    {
     "data": {
      "text/plain": [
       "-2.004931506849309"
      ]
     },
     "execution_count": 32,
     "metadata": {},
     "output_type": "execute_result"
    }
   ],
   "source": [
    "z=(2-df1['Temperature'].mean())/0.5\n",
    "z"
   ]
  },
  {
   "cell_type": "code",
   "execution_count": 33,
   "id": "578f43f9",
   "metadata": {},
   "outputs": [
    {
     "name": "stdout",
     "output_type": "stream",
     "text": [
      "Probability of temperature having fallen below 2º C: 2.248518493937247 %\n"
     ]
    }
   ],
   "source": [
    "a = stats.norm.cdf(z)\n",
    "print(f\"Probability of temperature having fallen below 2º C: {a*100} %\")"
   ]
  },
  {
   "cell_type": "code",
   "execution_count": 34,
   "id": "336e97be",
   "metadata": {},
   "outputs": [
    {
     "name": "stdout",
     "output_type": "stream",
     "text": [
      "Object `C` not found.\n"
     ]
    }
   ],
   "source": [
    "1.5 Assume Normal distribution, what is the probability of temperature having gone above 4º C?"
   ]
  },
  {
   "cell_type": "markdown",
   "id": "78103a68",
   "metadata": {},
   "source": [
    "# 1.5 Assume Normal distribution, what is the probability of temperature having gone above 4º C"
   ]
  },
  {
   "cell_type": "code",
   "execution_count": 35,
   "id": "c25a7d4e",
   "metadata": {},
   "outputs": [
    {
     "data": {
      "text/plain": [
       "1.9950684931506908"
      ]
     },
     "execution_count": 35,
     "metadata": {},
     "output_type": "execute_result"
    }
   ],
   "source": [
    "y=(4-df1['Temperature'].mean())/0.5\n",
    "y"
   ]
  },
  {
   "cell_type": "code",
   "execution_count": 36,
   "id": "db7dad80",
   "metadata": {},
   "outputs": [
    {
     "name": "stdout",
     "output_type": "stream",
     "text": [
      "Probability of temperature having gone above 4º C: 2.301770505698253 %\n"
     ]
    }
   ],
   "source": [
    "b = 1 - stats.norm.cdf(y)\n",
    "print(f\"Probability of temperature having gone above 4º C: {b*100} %\")"
   ]
  },
  {
   "cell_type": "markdown",
   "id": "b2ae3d94",
   "metadata": {},
   "source": [
    "# 1.6 What will be the penalty for the AMC Company?"
   ]
  },
  {
   "cell_type": "markdown",
   "id": "efbf8b5e",
   "metadata": {},
   "source": [
    ".As particular Temperature can never attain a value “lower than 2” and “higher than 4” at the same time, therefore these 2 are mutually exclusive events, thus P (A U B) = P(A) + P(B).\n",
    "\n",
    ".So, P = P(Temp<2) + P(Temp>4)\n",
    "\n",
    ".Therefore, penalty = 10% of AMC, since the probability of Temps going outside of the range of 2 – 4 C falls between the 2.5% and 5% boundary as mentioned in the problem statement."
   ]
  },
  {
   "cell_type": "code",
   "execution_count": 38,
   "id": "8eb38a67",
   "metadata": {},
   "outputs": [
    {
     "name": "stdout",
     "output_type": "stream",
     "text": [
      "probability of Temps going outside of the range of 2 – 4 C falls between the 2.5% and 5% boundary: 4.5502889996355 %\n"
     ]
    }
   ],
   "source": [
    "c = ((1 - stats.norm.cdf(y))*100) + (stats.norm.cdf(z)*100)\n",
    "print(f\"probability of Temps going outside of the range of 2 – 4 C falls between the 2.5% and 5% boundary: {c} %\")"
   ]
  },
  {
   "cell_type": "markdown",
   "id": "2586ec0a",
   "metadata": {},
   "source": [
    "# Problem 2"
   ]
  },
  {
   "cell_type": "markdown",
   "id": "49d2ff85",
   "metadata": {},
   "source": [
    "# “Cold_Storage_Mar2018_.csv”"
   ]
  },
  {
   "cell_type": "markdown",
   "id": "eba9dc47",
   "metadata": {},
   "source": [
    "# 2.1 Which Hypothesis test shall be performed to check if corrective action is needed at the cold storage plant? Justify your answer."
   ]
  },
  {
   "cell_type": "markdown",
   "id": "6889f92f",
   "metadata": {},
   "source": [
    "Observations: 1) The dataset 1 contains the temperatures throughout the year of 2016\n",
    "\n",
    "2) The dataset 2 contains the temperatures from a sample of 35 days in 2018 – 02/11 to 03/17 that was procured on back of customer complaints\n",
    "\n",
    "3) From this, we can infer, the dataset 2 is not a sample of the dataset 1.\n",
    "\n",
    "4) Therefore, we cannot get the population mean/standard deviation.\n",
    "\n",
    "5) As the dataset 2 is independent, and we have not been provided with the population data for the same, cannot deduce the Population standard deviation."
   ]
  },
  {
   "cell_type": "markdown",
   "id": "02f39714",
   "metadata": {},
   "source": [
    "Assumptions: 1)We are assuming the population mean and standard deviation to be same as Sample mean Mu and Sample Standard deviation Sigma, thus assuming our Sample estimation will be reflective of the reality/population sampling\n",
    "Approach: 1) Since the population standard deviation is unknown, the best Statistic test to perform would be the T-statistic Test\n",
    "\n",
    "2) Since we are talking about potential corrective actions, we intend to be more exhaustive and detail oriented."
   ]
  },
  {
   "cell_type": "code",
   "execution_count": 40,
   "id": "28fc1b69",
   "metadata": {},
   "outputs": [
    {
     "data": {
      "text/html": [
       "<div>\n",
       "<style scoped>\n",
       "    .dataframe tbody tr th:only-of-type {\n",
       "        vertical-align: middle;\n",
       "    }\n",
       "\n",
       "    .dataframe tbody tr th {\n",
       "        vertical-align: top;\n",
       "    }\n",
       "\n",
       "    .dataframe thead th {\n",
       "        text-align: right;\n",
       "    }\n",
       "</style>\n",
       "<table border=\"1\" class=\"dataframe\">\n",
       "  <thead>\n",
       "    <tr style=\"text-align: right;\">\n",
       "      <th></th>\n",
       "      <th>Season</th>\n",
       "      <th>Month</th>\n",
       "      <th>Date</th>\n",
       "      <th>Temperature</th>\n",
       "    </tr>\n",
       "  </thead>\n",
       "  <tbody>\n",
       "    <tr>\n",
       "      <th>0</th>\n",
       "      <td>Summer</td>\n",
       "      <td>Feb</td>\n",
       "      <td>11</td>\n",
       "      <td>4.0</td>\n",
       "    </tr>\n",
       "    <tr>\n",
       "      <th>1</th>\n",
       "      <td>Summer</td>\n",
       "      <td>Feb</td>\n",
       "      <td>12</td>\n",
       "      <td>3.9</td>\n",
       "    </tr>\n",
       "    <tr>\n",
       "      <th>2</th>\n",
       "      <td>Summer</td>\n",
       "      <td>Feb</td>\n",
       "      <td>13</td>\n",
       "      <td>3.9</td>\n",
       "    </tr>\n",
       "    <tr>\n",
       "      <th>3</th>\n",
       "      <td>Summer</td>\n",
       "      <td>Feb</td>\n",
       "      <td>14</td>\n",
       "      <td>4.0</td>\n",
       "    </tr>\n",
       "    <tr>\n",
       "      <th>4</th>\n",
       "      <td>Summer</td>\n",
       "      <td>Feb</td>\n",
       "      <td>15</td>\n",
       "      <td>3.8</td>\n",
       "    </tr>\n",
       "  </tbody>\n",
       "</table>\n",
       "</div>"
      ],
      "text/plain": [
       "   Season Month  Date   Temperature \n",
       "0  Summer   Feb    11            4.0\n",
       "1  Summer   Feb    12            3.9\n",
       "2  Summer   Feb    13            3.9\n",
       "3  Summer   Feb    14            4.0\n",
       "4  Summer   Feb    15            3.8"
      ]
     },
     "execution_count": 40,
     "metadata": {},
     "output_type": "execute_result"
    }
   ],
   "source": [
    "df2 = pd.read_csv('Cold_Storage_Mar2018_.csv')\n",
    "df2.head()"
   ]
  },
  {
   "cell_type": "code",
   "execution_count": 41,
   "id": "20e19376",
   "metadata": {},
   "outputs": [
    {
     "data": {
      "text/plain": [
       "Season           0\n",
       "Month            0\n",
       "Date             0\n",
       " Temperature     0\n",
       "dtype: int64"
      ]
     },
     "execution_count": 41,
     "metadata": {},
     "output_type": "execute_result"
    }
   ],
   "source": [
    "df2.isnull().sum()"
   ]
  },
  {
   "cell_type": "code",
   "execution_count": 42,
   "id": "fede414c",
   "metadata": {},
   "outputs": [
    {
     "data": {
      "text/html": [
       "<div>\n",
       "<style scoped>\n",
       "    .dataframe tbody tr th:only-of-type {\n",
       "        vertical-align: middle;\n",
       "    }\n",
       "\n",
       "    .dataframe tbody tr th {\n",
       "        vertical-align: top;\n",
       "    }\n",
       "\n",
       "    .dataframe thead th {\n",
       "        text-align: right;\n",
       "    }\n",
       "</style>\n",
       "<table border=\"1\" class=\"dataframe\">\n",
       "  <thead>\n",
       "    <tr style=\"text-align: right;\">\n",
       "      <th></th>\n",
       "      <th>count</th>\n",
       "      <th>mean</th>\n",
       "      <th>std</th>\n",
       "      <th>min</th>\n",
       "      <th>25%</th>\n",
       "      <th>50%</th>\n",
       "      <th>75%</th>\n",
       "      <th>max</th>\n",
       "    </tr>\n",
       "  </thead>\n",
       "  <tbody>\n",
       "    <tr>\n",
       "      <th>Date</th>\n",
       "      <td>35.0</td>\n",
       "      <td>14.400000</td>\n",
       "      <td>7.389181</td>\n",
       "      <td>1.0</td>\n",
       "      <td>9.5</td>\n",
       "      <td>14.0</td>\n",
       "      <td>19.5</td>\n",
       "      <td>28.0</td>\n",
       "    </tr>\n",
       "    <tr>\n",
       "      <th>Temperature</th>\n",
       "      <td>35.0</td>\n",
       "      <td>3.974286</td>\n",
       "      <td>0.159674</td>\n",
       "      <td>3.8</td>\n",
       "      <td>3.9</td>\n",
       "      <td>3.9</td>\n",
       "      <td>4.1</td>\n",
       "      <td>4.6</td>\n",
       "    </tr>\n",
       "  </tbody>\n",
       "</table>\n",
       "</div>"
      ],
      "text/plain": [
       "               count       mean       std  min  25%   50%   75%   max\n",
       "Date            35.0  14.400000  7.389181  1.0  9.5  14.0  19.5  28.0\n",
       " Temperature    35.0   3.974286  0.159674  3.8  3.9   3.9   4.1   4.6"
      ]
     },
     "execution_count": 42,
     "metadata": {},
     "output_type": "execute_result"
    }
   ],
   "source": [
    "df2.describe().T"
   ]
  },
  {
   "cell_type": "code",
   "execution_count": 43,
   "id": "e60293a1",
   "metadata": {},
   "outputs": [
    {
     "name": "stdout",
     "output_type": "stream",
     "text": [
      "<class 'pandas.core.frame.DataFrame'>\n",
      "RangeIndex: 35 entries, 0 to 34\n",
      "Data columns (total 4 columns):\n",
      " #   Column         Non-Null Count  Dtype  \n",
      "---  ------         --------------  -----  \n",
      " 0   Season         35 non-null     object \n",
      " 1   Month          35 non-null     object \n",
      " 2   Date           35 non-null     int64  \n",
      " 3    Temperature   35 non-null     float64\n",
      "dtypes: float64(1), int64(1), object(2)\n",
      "memory usage: 1.2+ KB\n"
     ]
    }
   ],
   "source": [
    "df2.info()"
   ]
  },
  {
   "cell_type": "code",
   "execution_count": 44,
   "id": "6f762efb",
   "metadata": {},
   "outputs": [],
   "source": [
    "df2.rename(columns = {\" Temperature \": \"Temperature\"}, inplace = True)"
   ]
  },
  {
   "cell_type": "markdown",
   "id": "a95a71e7",
   "metadata": {},
   "source": [
    "# 2.2 State the Hypothesis and do the necessary calculations to accept or reject the corresponding null hypothesis."
   ]
  },
  {
   "cell_type": "markdown",
   "id": "8e7ee3f4",
   "metadata": {},
   "source": [
    "• Null Hypothesis, 𝐻0 : Mean Temp<=3.9\n",
    "    \n",
    "• Alternate Hypothesis, 𝐻1 : Mean Temp >3.9\n",
    "    \n",
    "the p-value of this test to be less than the α value.(0.1)\n",
    "\n",
    "Assumed Population mean = 3.9"
   ]
  },
  {
   "cell_type": "code",
   "execution_count": 45,
   "id": "d87355e4",
   "metadata": {},
   "outputs": [
    {
     "name": "stdout",
     "output_type": "stream",
     "text": [
      "Sample mean:3.974285714285715\n",
      "Sample Standard Deviation :0.15967403771223335\n",
      "Sample Size is 35\n",
      "Degree of freedom: 34\n",
      "Sampling Error: 0.07428571428571518\n",
      "Standard Error: 0.026989838468435126\n"
     ]
    }
   ],
   "source": [
    "print(f\"Sample mean:{df2['Temperature'].mean()}\")\n",
    "print(f\"Sample Standard Deviation :{stdev(df2['Temperature'])}\")\n",
    "print(f\"Sample Size is {len(df2)}\")\n",
    "print(f\"Degree of freedom: {len(df2)-1}\")\n",
    "print(f\"Sampling Error: {df2['Temperature'].mean()-3.9}\")\n",
    "print(f\"Standard Error: {stdev(df2['Temperature'])/math.pow(len(df2),0.5)}\")\n",
    "alpha =0.1"
   ]
  },
  {
   "cell_type": "code",
   "execution_count": 46,
   "id": "b125e3d8",
   "metadata": {},
   "outputs": [
    {
     "name": "stdout",
     "output_type": "stream",
     "text": [
      "One sample t test \n",
      "t statistic: 2.752358609800241\n",
      "  p value: 0.0047111977021322155 \n"
     ]
    }
   ],
   "source": [
    "t_statistic, p_value = ttest_1samp(df2['Temperature'], 3.9)\n",
    "print('One sample t test \\nt statistic: {0}\\n  p value: {1} '.format(t_statistic, p_value/2))"
   ]
  },
  {
   "cell_type": "code",
   "execution_count": 47,
   "id": "dd7d65bc",
   "metadata": {},
   "outputs": [
    {
     "name": "stdout",
     "output_type": "stream",
     "text": [
      "One sample t test \n",
      "t statistic: 2.752358609800241\n",
      "  p value: 0.0047111977021322155 \n"
     ]
    }
   ],
   "source": [
    "t_stat, p_val = ttest_1samp(df2['Temperature'], 3.9,alternative = 'greater')\n",
    "print('One sample t test \\nt statistic: {0}\\n  p value: {1} '.format(t_stat, p_val))"
   ]
  },
  {
   "cell_type": "code",
   "execution_count": 48,
   "id": "9d8272aa",
   "metadata": {},
   "outputs": [
    {
     "name": "stdout",
     "output_type": "stream",
     "text": [
      "Level of significance: 0.10\n",
      "We have evidence to reject the null hypothesis since p value < Level of significance\n",
      "Our one-sample t-test p-value= 0.009422395404264431\n"
     ]
    }
   ],
   "source": [
    "# p_value < 0.1 => alternative hypothesis:\n",
    "\n",
    "print('Level of significance: %.2f' %alpha)\n",
    "if p_value < alpha: \n",
    "    print('We have evidence to reject the null hypothesis since p value < Level of significance')\n",
    "else:\n",
    "    print('We have no evidence to reject the null hypothesis since p value > Level of significance') \n",
    "\n",
    "print (\"Our one-sample t-test p-value=\", p_value)"
   ]
  },
  {
   "cell_type": "markdown",
   "id": "b3f21deb",
   "metadata": {},
   "source": [
    "Level of significance: 0.10\n",
    "We have evidence to reject the null hypothesis since p value < Level of significance\n",
    "Our one-sample t-test p-value= 0.009422395404264431\n",
    "Since Pvalue < alpha, the Null Hypothesis is rejected, and Alternative Hypothesis is accepted, thus statistically concluding (via T Test) that the Temperature in the Cold Storage is greater than 3.9 C with 90% confidence [(1 – alpha)*100], thus causing the products go sour and often smelling.\n",
    "\n",
    "I found the actual confidence by subtracting the Pvalue from 1.\n",
    "\n",
    "Actual Confidence = (1 - Pvalue) * 100 = 99.52888%"
   ]
  },
  {
   "cell_type": "markdown",
   "id": "cf0fc395",
   "metadata": {},
   "source": [
    "# 2.3 Give your inference."
   ]
  },
  {
   "cell_type": "markdown",
   "id": "8a06ad5e",
   "metadata": {},
   "source": [
    "We have seen from the dataset 1 that holds the values from the year 2016, the average temperature throughout the year is 3.002 C. However, as months went by, the working quality of the Cold Storage seems to have degraded. And from the samples taken in 2018, without even putting it through any Statistical analyses, we can see a mean temperature to be 3.97 C, which is 0.97 degree higher, and going by the working principle of Cold storages, that does not look good, which is why the complaints of products going sour and smelling kept pouring in. However, we hold our judgement before doing an analysis through Statistical analysis and concluding the result. To do a root cause analysis via statistical hypothesis procedures, we performed T-statistic, which gave us the following results:\n",
    "\n",
    "1. Having performed T tests, we have confirmed rejecting the Null Hypothesis of Mean Temp < 3.9 C.\n",
    "1. With 90% confidence, we can conclude the temperature indeed crossed the permissible limit of 3.9 C.\n",
    "1. With 99.53% actual confidence, we can conclude the above statement.\n",
    "1. With only 0.47% confidence, we can conclude that the temperature is equal to or lesser than 3.9 C.\n",
    "1. Thus, statistically we can conclude that there needs to be corrective measures taken to keep the Cold Storage function properly, and there is no apparent problem (statistically speaking) from procurement side from where Cold Storage is getting the Dairy Products.\n",
    "1. We can submit the results to the owner of the Cold Storage and they need to figure out the resolution path, is it the lackadaisical approach in work by the Supervisor or some inherent problems with the machines being used. This, we cannot conclude statistically due to lack of necessary data.\n",
    "\n",
    "Also, as we have seen earlier, there is ‘almost’ a 5% probability of the temperatures to be outside of the permissible range of 2-4 C, thus attracting a hefty fine of 10% AMC, and until immediate necessary measures are taken, it could cross the 5C mark and attract even a heftier fine of 25% AMC."
   ]
  },
  {
   "cell_type": "markdown",
   "id": "91a5b17a",
   "metadata": {},
   "source": [
    "# END"
   ]
  }
 ],
 "metadata": {
  "kernelspec": {
   "display_name": "Python 3 (ipykernel)",
   "language": "python",
   "name": "python3"
  },
  "language_info": {
   "codemirror_mode": {
    "name": "ipython",
    "version": 3
   },
   "file_extension": ".py",
   "mimetype": "text/x-python",
   "name": "python",
   "nbconvert_exporter": "python",
   "pygments_lexer": "ipython3",
   "version": "3.9.7"
  }
 },
 "nbformat": 4,
 "nbformat_minor": 5
}
